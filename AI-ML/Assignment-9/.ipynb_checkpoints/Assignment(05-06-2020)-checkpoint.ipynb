{
 "cells": [
  {
   "cell_type": "markdown",
   "metadata": {},
   "source": [
    "# CSE-221710305047-SAI_D_VETUKURI"
   ]
  },
  {
   "cell_type": "markdown",
   "metadata": {},
   "source": [
    "Question 1:\n",
    "[Data Series] \n",
    "Write a Python program to add, subtract, multiple and divide two Pandas Series. \n",
    "Sample Series: \n",
    "[2, 4, 6, 8, 10], [1, 3, 5, 7, 9]\n",
    "Sample Output:\n",
    "[2, 4, 6, 8, 10] + [1, 3, 5, 7, 9] = [3, 7, 11, 15, 19]\n",
    "\t\t * * *\n"
   ]
  },
  {
   "cell_type": "code",
   "execution_count": 81,
   "metadata": {},
   "outputs": [
    {
     "name": "stdout",
     "output_type": "stream",
     "text": [
      "[2, 4, 6, 8, 10] + [1, 3, 5, 7, 9] = [3, 7, 11, 15, 19]\n",
      "[2, 4, 6, 8, 10] - [1, 3, 5, 7, 9] = [1, 1, 1, 1, 1]\n",
      "[2, 4, 6, 8, 10] * [1, 3, 5, 7, 9] = [2, 12, 30, 56, 90]\n",
      "[2, 4, 6, 8, 10] / [1, 3, 5, 7, 9] = [2.0, 1.3333333333333333, 1.2, 1.1428571428571428, 1.1111111111111112]\n"
     ]
    }
   ],
   "source": [
    "import pandas as pd\n",
    "s1=pd.Series([2,4,6,8,10])\n",
    "s2=pd.Series([1,3,5,7,9])\n",
    "print(list(s1),'+',list(s2),'=',list(s1+s2))\n",
    "print(list(s1),'-',list(s2),'=',list(s1-s2))\n",
    "print(list(s1),'*',list(s2),'=',list(s1*s2))\n",
    "print(list(s1),'/',list(s2),'=',list(s1/s2))"
   ]
  },
  {
   "cell_type": "code",
   "execution_count": null,
   "metadata": {},
   "outputs": [],
   "source": [
    "Question 2:\n",
    "[Quartiles] \n",
    "Write a Pandas program to compute the minimum, 25th percentile, median, 75th, and maximum of a given series. \n",
    "Sample Output:\n",
    "Original Series:\n",
    "0 3.000938\n",
    "1 11.370722\n",
    "2 14.612143\n",
    "3 8.990256\n",
    "4 13.925283\n",
    "5 12.056875\n",
    ".... 17 14.118931\n",
    "18 8.247458\n",
    "19 5.526727\n",
    "dtype: float64\n",
    "Minimum, 25th percentile, median, 75th, and maximum of a given series:\n",
    "[ 3.00093811 8.09463867 10.23353705 12.21537733 14.61214321]\n"
   ]
  },
  {
   "cell_type": "code",
   "execution_count": 82,
   "metadata": {},
   "outputs": [
    {
     "name": "stdout",
     "output_type": "stream",
     "text": [
      "0    12.23\n",
      "1    23.34\n",
      "2    45.30\n",
      "3    45.50\n",
      "4    67.40\n",
      "5    67.78\n",
      "6    34.45\n",
      "7    23.34\n",
      "8    67.40\n",
      "9    23.00\n",
      "dtype: float64\n",
      "Minimum, 25th percentile, median, 75th, and maximum of a given series:\n",
      "[12.23, 23.34, 39.875, 61.925000000000004, 67.78]\n"
     ]
    }
   ],
   "source": [
    "s1=pd.Series([12.23,23.34,45.3,45.5,67.4,67.78,34.45,23.34,67.4,23])\n",
    "print(s1)\n",
    "s1d=s1.describe()\n",
    "print(\"Minimum, 25th percentile, median, 75th, and maximum of a given series:\")\n",
    "s2=pd.Series([s1d[\"min\"],s1d[\"25%\"],s1d[\"50%\"],s1d[\"75%\"],s1d[\"max\"]])\n",
    "print(list(s2))"
   ]
  },
  {
   "cell_type": "markdown",
   "metadata": {},
   "source": [
    "Question 3:\n",
    "[List Difference] \n",
    "Write a Pandas program to get the items of a given series not present in another given series. \n",
    "Sample Output:\n",
    "Original Series:\n",
    "sr1:\n",
    "0 1\n",
    "1 2\n",
    "2 3\n",
    "3 4\n",
    "4 5\n",
    "dtype: int64\n",
    "sr2:\n",
    "0 2\n",
    "1 4\n",
    "2 6\n",
    "3 8\n",
    "4 10\n",
    "dtype: int64\n",
    "Items of sr1 not present in sr2:\n",
    "0 1\n",
    "2 3\n",
    "4 5\n",
    "dtype: int64\n"
   ]
  },
  {
   "cell_type": "code",
   "execution_count": 83,
   "metadata": {},
   "outputs": [
    {
     "name": "stdout",
     "output_type": "stream",
     "text": [
      "0    1\n",
      "1    2\n",
      "2    3\n",
      "3    4\n",
      "4    5\n",
      "dtype: int64\n",
      "0     2\n",
      "1     4\n",
      "2     6\n",
      "3     8\n",
      "4    10\n",
      "dtype: int64\n",
      "\n",
      "Items of sr1 not present in sr2:\n",
      "\n",
      "0    1\n",
      "2    3\n",
      "4    5\n",
      "dtype: int64\n"
     ]
    }
   ],
   "source": [
    "sr1=pd.Series([1,2,3,4,5])\n",
    "sr2=pd.Series([2,4,6,8,10])\n",
    "print(sr1)\n",
    "print(sr2)\n",
    "print(\"\\nItems of sr1 not present in sr2:\\n\")\n",
    "print(sr1[~sr1.isin(sr2)])\n",
    "    \n",
    "    \n",
    "        "
   ]
  },
  {
   "cell_type": "markdown",
   "metadata": {},
   "source": [
    "Question 4:\n",
    "[Filter Words with Multiple Vowels] \n",
    "Write a Pandas program to filter words from a given series that contain at least two vowels. \n",
    "Sample Output:\n",
    "Original Series:\n",
    "0 Red\n",
    "1 Green\n",
    "2 Orange\n",
    "3 Pink\n",
    "4 Yellow\n",
    "5 White\n",
    "dtype: object\n",
    "\n",
    "Filtered words:\n",
    "1 Green\n",
    "2 Orange\n",
    "4 Yellow\n",
    "5 White\n",
    "dtype: object\n",
    "\n"
   ]
  },
  {
   "cell_type": "code",
   "execution_count": 84,
   "metadata": {},
   "outputs": [
    {
     "name": "stdout",
     "output_type": "stream",
     "text": [
      "\n",
      "Original Series\n",
      "\n",
      "0       Red\n",
      "1     Green\n",
      "2    Orange\n",
      "3      Pink\n",
      "4    Yellow\n",
      "5     White\n",
      "dtype: object\n",
      "\n",
      "Filtered words\n",
      "\n",
      "1     Green\n",
      "2    Orange\n",
      "4    Yellow\n",
      "5     White\n",
      "dtype: object\n"
     ]
    }
   ],
   "source": [
    "s1=pd.Series(['Red','Green','Orange','Pink','Yellow','White'])\n",
    "print(\"\\nOriginal Series\\n\")\n",
    "print(s1)\n",
    "print(\"\\nFiltered words\\n\")\n",
    "print(s1[s1.str.count('a')+s1.str.count('e')+s1.str.count('i')+s1.str.count('o')+s1.str.count('u')+s1.str.count('A')+s1.str.count('E')+s1.str.count('I')+s1.str.count('O')+s1.str.count('U')>=2])"
   ]
  },
  {
   "cell_type": "markdown",
   "metadata": {},
   "source": [
    "Question 5:\n",
    "Consider the following as my DataFrame,Write a Pandas program to select the rows where the number of attempts in the examination is greater than 2.\n",
    "\n",
    "\n"
   ]
  },
  {
   "cell_type": "code",
   "execution_count": 85,
   "metadata": {},
   "outputs": [
    {
     "name": "stdout",
     "output_type": "stream",
     "text": [
      "\n",
      "Original Data\n",
      "\n",
      "        name score  attempts qualify\n",
      "a  Anastasia  12.5         1     yes\n",
      "b       Dima     9         3      no\n",
      "c  Katherine  16.5         2     yes\n",
      "d      James   NaN         3      no\n",
      "e      Emily     9         2      no\n",
      "f    Michael    20         3     yes\n",
      "g    Matthew  14.5         1     yes\n",
      "h      Laura   NaN         1      no\n",
      "i      Kevin     8         2      no\n",
      "j      Jonas    19         1     yes\n",
      "\n",
      "Data where number of attempts in examination is greater than 2\n",
      "\n",
      "      name score  attempts qualify\n",
      "b     Dima     9         3      no\n",
      "d    James   NaN         3      no\n",
      "f  Michael    20         3     yes\n"
     ]
    }
   ],
   "source": [
    "dict1 = {'a':'Anastasia','b':'Dima','c':'Katherine','d':'James','e':'Emily',\n",
    "         'f':'Michael','g':'Matthew','h':'Laura','i':'Kevin','j':'Jonas'}\n",
    "dict2 = {'a':12.5,'b':9.0,'c':16.5,'d':'NaN','e':9.0,'f':20.0,'g':14.5,'h':'NaN','i':8.0,\n",
    "         'j':19.0}\n",
    "dict3 = {'a':1,'b':3,'c':2,'d':3,'e':2,'f':3,'g':1,'h':1,'i':2,\n",
    "         'j':1}\n",
    "dict4={'a':'yes','b':'no','c':'yes','d':'no','e':'no','f':'yes','g':'yes','h':'no','i':'no',\n",
    "         'j':'yes'}\n",
    "data={\"name\":dict1,\"score\":dict2,\"attempts\":dict3,\"qualify\":dict4}\n",
    "df=pd.DataFrame(data)\n",
    "print(\"\\nOriginal Data\\n\")\n",
    "print(df)\n",
    "print(\"\\nData where number of attempts in examination is greater than 2\\n\")\n",
    "print(df[df['attempts']>2])"
   ]
  },
  {
   "cell_type": "code",
   "execution_count": null,
   "metadata": {},
   "outputs": [],
   "source": []
  }
 ],
 "metadata": {
  "kernelspec": {
   "display_name": "Python 3",
   "language": "python",
   "name": "python3"
  },
  "language_info": {
   "codemirror_mode": {
    "name": "ipython",
    "version": 3
   },
   "file_extension": ".py",
   "mimetype": "text/x-python",
   "name": "python",
   "nbconvert_exporter": "python",
   "pygments_lexer": "ipython3",
   "version": "3.7.6"
  }
 },
 "nbformat": 4,
 "nbformat_minor": 4
}
