{
 "cells": [
  {
   "cell_type": "markdown",
   "metadata": {},
   "source": [
    "# CSE-221710305047-SAI_D_VETUKURI"
   ]
  },
  {
   "cell_type": "markdown",
   "metadata": {},
   "source": [
    "Question 1:\n",
    "[Reverse] Copy the contents of a text file into another, printing the reversed version of each input line\n"
   ]
  },
  {
   "cell_type": "code",
   "execution_count": 20,
   "metadata": {},
   "outputs": [
    {
     "name": "stdout",
     "output_type": "stream",
     "text": [
      ". experience through automatically improve that algorithms computer of study the is (ML) learning Machine \n",
      "\n",
      "based model mathematical a build algorithms learning Machine . intelligence artificial of subset a as seen is It \n",
      "\n",
      "programmed explicitly being without decisions or predictions make to order in data\", \"training as known data, sample on \n",
      "\n",
      "computer and filtering email as such applications, of variety wide a in used are algorithms learning Machine . so do to \n",
      "\n",
      ". tasks needed the perform to algorithms conventional develop to infeasible or difficult is it where vision, \n",
      "\n"
     ]
    }
   ],
   "source": [
    "f=open(\"ml.txt\",\"w\")\n",
    "f.write('''Machine learning (ML) is the study of computer algorithms that improve automatically through experience . \n",
    "It is seen as a subset of artificial intelligence . Machine learning algorithms build a mathematical model based \n",
    "on sample data, known as \"training data\", in order to make predictions or decisions without being explicitly programmed \n",
    "to do so . Machine learning algorithms are used in a wide variety of applications, such as email filtering and computer \n",
    "vision, where it is difficult or infeasible to develop conventional algorithms to perform the needed tasks .\n",
    "''')\n",
    "f=open(\"ml.txt\",\"r\")\n",
    "f1=open(\"mlcopy.txt\",\"w\")\n",
    "for i in f:\n",
    "    f1.write(i)\n",
    "f1=open(\"mlcopy.txt\",\"r\")\n",
    "for j in f1:\n",
    "    s=j.split()\n",
    "    for k in range(len(s)-1,-1,-1):\n",
    "        print(s[k],end=\" \")\n",
    "    print(\"\\n\")\n",
    "    "
   ]
  },
  {
   "cell_type": "markdown",
   "metadata": {},
   "source": [
    "Question 2:\n",
    "[Number Lines] Print the contents of a file line by line putting a line number for each line."
   ]
  },
  {
   "cell_type": "code",
   "execution_count": 21,
   "metadata": {},
   "outputs": [
    {
     "name": "stdout",
     "output_type": "stream",
     "text": [
      "1 Machine learning (ML) is the study of computer algorithms that improve automatically through experience . \n",
      "\n",
      "2 It is seen as a subset of artificial intelligence . Machine learning algorithms build a mathematical model based \n",
      "\n",
      "3 on sample data, known as \"training data\", in order to make predictions or decisions without being explicitly programmed \n",
      "\n",
      "4 to do so . Machine learning algorithms are used in a wide variety of applications, such as email filtering and computer \n",
      "\n",
      "5 vision, where it is difficult or infeasible to develop conventional algorithms to perform the needed tasks .\n",
      "\n"
     ]
    }
   ],
   "source": [
    "f=open(\"ml.txt\",\"r\")\n",
    "l=1\n",
    "for i in f:\n",
    "    print(str(l)+\" \"+i)\n",
    "    l+=1\n",
    "    "
   ]
  },
  {
   "cell_type": "markdown",
   "metadata": {},
   "source": [
    "Question 3:\n",
    "[deDuplicate] Avoiding Duplicates\n",
    "In many situations, lists should not contain duplicate elements. For example, a pack of cards should not contain the same card twice. Define a function\n",
    "duplicates (list): bool\n",
    "which returns True if its argument contains duplicate elements.\n",
    "\t\tduplicates [1,2,3,4,5]\n",
    "\t\t\tFalse\n",
    "\t\tduplicates [1,2,3,2]\n",
    "\t\t\tTrue\n",
    "Hint: the standard operation in, which tests whether an element occurs in a list, is helpful here.\n",
    "\n",
    "One way to ensure a list contains no duplicates is to start with a list that might contain duplicate elements, and remove them. Define a function\n",
    "    removeDuplicates (list): list\n",
    "which returns a list containing the same elements as its argument, but without duplicates.\n"
   ]
  },
  {
   "cell_type": "code",
   "execution_count": 22,
   "metadata": {},
   "outputs": [
    {
     "name": "stdout",
     "output_type": "stream",
     "text": [
      "1 2 1 3 3 11 3 6\n",
      "Duplicates are present and they are removed\n",
      "[1, 2, 3, 6, 11]\n"
     ]
    }
   ],
   "source": [
    "def isDuplicatePresent(list1):\n",
    "    set1=set(list1)\n",
    "    for i in set1:\n",
    "        if list1.count(i)>1:\n",
    "            return True\n",
    "    return False\n",
    "def removeDuplicates(list1):\n",
    "    if(isDuplicatePresent(list1)):\n",
    "        print(\"Duplicates are present and they are removed\")\n",
    "        return list(set(list1))\n",
    "    else:\n",
    "        print(\"No duplicates\")\n",
    "        return list1\n",
    "\n",
    "list1=list(map(int,input().split()))\n",
    "print(removeDuplicates(list1))\n",
    "\n",
    "\n",
    "\n",
    "    "
   ]
  },
  {
   "cell_type": "markdown",
   "metadata": {},
   "source": [
    "Question 4:\n",
    "[fractions.py] Develop a package for fractions. Develop a module that performs operations on fractions. It should have methods to create fractions, perform operations on two fractions, simplify a fraction, and print a fraction. You should use that package and illustrate those operations.\n"
   ]
  },
  {
   "cell_type": "code",
   "execution_count": 23,
   "metadata": {},
   "outputs": [
    {
     "name": "stdout",
     "output_type": "stream",
     "text": [
      "Creation of fraction: 3/5\n",
      "Fraction of 5.62 is  281/50\n",
      "Fraction of 3 is  3/1\n",
      "Simplified fraction of 5/10 is  1/2\n",
      "Numerator of 5/3 is  5\n",
      "Denominator of 5/3 is  3\n",
      "Addition of 3/8 and 4/7: 53/56\n",
      "Subtraction of 3/8 and 4/7: -11/56\n",
      "Multiplication of 3/8 and 4/7: 3/14\n",
      "Division of 3/8 and 4/7: 21/32\n"
     ]
    }
   ],
   "source": [
    "from fractions import *\n",
    "print(\"Creation of fraction:\",createFrac(3,5))\n",
    "print(\"Fraction of 5.62 is \",floatToFrac(5.62))\n",
    "print(\"Fraction of 3 is \",decToFrac(3))\n",
    "print(\"Simplified fraction of 5/10 is \",simplifyFrac(\"5/10\"))\n",
    "print(\"Numerator of 5/3 is \",numerator(\"5/3\"))\n",
    "print(\"Denominator of 5/3 is \",denominator(\"5/3\"))\n",
    "print(\"Addition of 3/8 and 4/7:\",add(\"3/8\",\"4/7\"))\n",
    "print(\"Subtraction of 3/8 and 4/7:\",subtract(\"3/8\",\"4/7\"))\n",
    "print(\"Multiplication of 3/8 and 4/7:\",multiply(\"3/8\",\"4/7\"))\n",
    "print(\"Division of 3/8 and 4/7:\",divide(\"3/8\",\"4/7\"))"
   ]
  },
  {
   "cell_type": "markdown",
   "metadata": {},
   "source": [
    "Question 5:\n",
    "[Permutations] \n",
    "A permutation of a list is another list with the same elements, but in a possibly different order. For example, [1,2,1] is a permutation of [2,1,1], but not of [1,2,2]. Write a function\n",
    "    \t\tisPermutation (list1, list2): bool\n",
    "that returns True if its arguments are permutations of each other.\n"
   ]
  },
  {
   "cell_type": "code",
   "execution_count": 24,
   "metadata": {},
   "outputs": [
    {
     "name": "stdout",
     "output_type": "stream",
     "text": [
      "enter the list11 2 1\n",
      "enter the list22 1 1\n",
      "True\n"
     ]
    }
   ],
   "source": [
    "from itertools import *\n",
    "def isPermutation(list1,list2):\n",
    "    p=list(permutations(list1))\n",
    "    return tuple(list2) in p\n",
    "        \n",
    "list1=list(map(int,input(\"enter the list1\").split()))\n",
    "list2=list(map(int,input(\"enter the list2\").split()))\n",
    "print(isPermutation(list1,list2))"
   ]
  },
  {
   "cell_type": "code",
   "execution_count": null,
   "metadata": {},
   "outputs": [],
   "source": []
  },
  {
   "cell_type": "code",
   "execution_count": null,
   "metadata": {},
   "outputs": [],
   "source": []
  },
  {
   "cell_type": "code",
   "execution_count": null,
   "metadata": {},
   "outputs": [],
   "source": []
  },
  {
   "cell_type": "code",
   "execution_count": null,
   "metadata": {},
   "outputs": [],
   "source": []
  },
  {
   "cell_type": "code",
   "execution_count": null,
   "metadata": {},
   "outputs": [],
   "source": []
  }
 ],
 "metadata": {
  "kernelspec": {
   "display_name": "Python 3",
   "language": "python",
   "name": "python3"
  },
  "language_info": {
   "codemirror_mode": {
    "name": "ipython",
    "version": 3
   },
   "file_extension": ".py",
   "mimetype": "text/x-python",
   "name": "python",
   "nbconvert_exporter": "python",
   "pygments_lexer": "ipython3",
   "version": "3.7.6"
  }
 },
 "nbformat": 4,
 "nbformat_minor": 4
}
