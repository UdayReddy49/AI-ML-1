{
 "cells": [
  {
   "cell_type": "markdown",
   "metadata": {},
   "source": [
    "# CSE-221710305047-SAI_D_VETUKURI"
   ]
  },
  {
   "cell_type": "markdown",
   "metadata": {},
   "source": [
    "Question 1:\n",
    "\n",
    "Count the no.of words,no.of letters,no.of lines available in your file\n"
   ]
  },
  {
   "cell_type": "code",
   "execution_count": 1,
   "metadata": {},
   "outputs": [
    {
     "name": "stdout",
     "output_type": "stream",
     "text": [
      "No of lines  4\n",
      "no of words 50\n",
      "no of letters  377\n"
     ]
    }
   ],
   "source": [
    "f=open(\"sample.txt\",\"w\")\n",
    "f.write('''Python is an interpreted, high-level, general-purpose programming language. \n",
    "Created by Guido van Rossum and first released in 1991, Python's design philosophy emphasizes \n",
    "code readability with its notable use of significant whitespace. Its language constructs and \n",
    "object-oriented approach aim to help programmers write clear, logical code for small and large-scale projects.\n",
    "''')\n",
    "f.close()\n",
    "f=open(\"sample.txt\",\"r\")\n",
    "lines=list(f)\n",
    "print(\"No of lines \",len(lines))\n",
    "f=open(\"sample.txt\",\"r\")\n",
    "cw=0\n",
    "cl=0\n",
    "for i in f:\n",
    "    w1=i.split()\n",
    "    cw+=len(w1)    \n",
    "print(\"no of words\",cw)\n",
    "f=open(\"sample.txt\",\"r\")\n",
    "data=f.read()\n",
    "print(\"no of letters \",len(data))\n",
    "f.close()"
   ]
  },
  {
   "cell_type": "markdown",
   "metadata": {},
   "source": [
    "Question 2:\n",
    "\n",
    "Copy the content of one file to another\n"
   ]
  },
  {
   "cell_type": "code",
   "execution_count": 3,
   "metadata": {},
   "outputs": [
    {
     "name": "stdout",
     "output_type": "stream",
     "text": [
      "Python is an interpreted, high-level, general-purpose programming language. \n",
      "\n",
      "Created by Guido van Rossum and first released in 1991, Python's design philosophy emphasizes \n",
      "\n",
      "code readability with its notable use of significant whitespace. Its language constructs and \n",
      "\n",
      "object-oriented approach aim to help programmers write clear, logical code for small and large-scale projects.\n",
      "\n"
     ]
    }
   ],
   "source": [
    "f=open(\"sample.txt\",\"r\")\n",
    "f1=open(\"sample1.txt\",\"w\")\n",
    "for i in f:\n",
    "    f1.write(i)\n",
    "f2=open(\"sample1.txt\",\"r\")\n",
    "for i in f2:\n",
    "    print(i)\n"
   ]
  },
  {
   "cell_type": "markdown",
   "metadata": {},
   "source": [
    "Question 3:\n",
    "\n",
    "Display the words starting with letter 'p'\n"
   ]
  },
  {
   "cell_type": "code",
   "execution_count": 4,
   "metadata": {},
   "outputs": [
    {
     "name": "stdout",
     "output_type": "stream",
     "text": [
      "Python\n",
      "programming\n",
      "Python's\n",
      "philosophy\n",
      "programmers\n",
      "projects.\n"
     ]
    }
   ],
   "source": [
    "f=open(\"sample.txt\",\"r\")\n",
    "data=f.read()\n",
    "dwords=data.split()\n",
    "for i in dwords:\n",
    "    if(i[0]=='p' or i[0]=='P'):\n",
    "        print(i)\n",
    "f.close()"
   ]
  },
  {
   "cell_type": "code",
   "execution_count": 5,
   "metadata": {},
   "outputs": [],
   "source": [
    "import os\n",
    "os.rename(\"sample.txt\",\"sam.txt\")\n"
   ]
  },
  {
   "cell_type": "code",
   "execution_count": 17,
   "metadata": {},
   "outputs": [
    {
     "ename": "FileNotFoundError",
     "evalue": "[WinError 2] The system cannot find the file specified: 'sam.txt'",
     "output_type": "error",
     "traceback": [
      "\u001b[1;31m---------------------------------------------------------------------------\u001b[0m",
      "\u001b[1;31mFileNotFoundError\u001b[0m                         Traceback (most recent call last)",
      "\u001b[1;32m<ipython-input-17-c7293cea8506>\u001b[0m in \u001b[0;36m<module>\u001b[1;34m\u001b[0m\n\u001b[1;32m----> 1\u001b[1;33m \u001b[0mos\u001b[0m\u001b[1;33m.\u001b[0m\u001b[0mremove\u001b[0m\u001b[1;33m(\u001b[0m\u001b[1;34m\"sam.txt\"\u001b[0m\u001b[1;33m)\u001b[0m\u001b[1;33m\u001b[0m\u001b[1;33m\u001b[0m\u001b[0m\n\u001b[0m",
      "\u001b[1;31mFileNotFoundError\u001b[0m: [WinError 2] The system cannot find the file specified: 'sam.txt'"
     ]
    }
   ],
   "source": [
    "os.remove(\"sam.txt\")"
   ]
  },
  {
   "cell_type": "markdown",
   "metadata": {},
   "source": [
    "Question 5:\n",
    "\n",
    "Create a folder \n",
    "\n",
    "Goto that folder and create 5 no.of files\n",
    "\n",
    "All the file names should be unique\n",
    "\n",
    "Add some content into the file and the content in all the files should be unique\n",
    "\n",
    "File size should be 512bytes\n"
   ]
  },
  {
   "cell_type": "code",
   "execution_count": 4,
   "metadata": {},
   "outputs": [],
   "source": [
    "import os\n",
    "os.mkdir(\"Folder-python\")\n",
    "for i in range(0,5):\n",
    "    f=open(\"Folder-python/f\"+str(i)+\".txt\",\"a\")\n",
    "    for j in range(512):\n",
    "        f.write(str(i)+str(j)+\" \")\n",
    "    f.close()"
   ]
  },
  {
   "cell_type": "code",
   "execution_count": null,
   "metadata": {},
   "outputs": [],
   "source": []
  },
  {
   "cell_type": "code",
   "execution_count": null,
   "metadata": {},
   "outputs": [],
   "source": []
  },
  {
   "cell_type": "code",
   "execution_count": null,
   "metadata": {},
   "outputs": [],
   "source": []
  }
 ],
 "metadata": {
  "kernelspec": {
   "display_name": "Python 3",
   "language": "python",
   "name": "python3"
  },
  "language_info": {
   "codemirror_mode": {
    "name": "ipython",
    "version": 3
   },
   "file_extension": ".py",
   "mimetype": "text/x-python",
   "name": "python",
   "nbconvert_exporter": "python",
   "pygments_lexer": "ipython3",
   "version": "3.7.6"
  }
 },
 "nbformat": 4,
 "nbformat_minor": 4
}
