{
 "cells": [
  {
   "cell_type": "markdown",
   "metadata": {},
   "source": [
    "# CSE-221710305047-SAI_D_VETUKURI"
   ]
  },
  {
   "cell_type": "markdown",
   "metadata": {},
   "source": [
    "Question 1:\n",
    "\n",
    "Count the no.of words,no.of letters,no.of lines available in your file\n"
   ]
  },
  {
   "cell_type": "code",
   "execution_count": 1,
   "metadata": {},
   "outputs": [
    {
     "name": "stdout",
     "output_type": "stream",
     "text": [
      "No of lines  4\n",
      "no of words 50\n",
      "no of letters  377\n"
     ]
    }
   ],
   "source": [
    "f=open(\"sample.txt\",\"w\")\n",
    "f.write('''Python is an interpreted, high-level, general-purpose programming language. \n",
    "Created by Guido van Rossum and first released in 1991, Python's design philosophy emphasizes \n",
    "code readability with its notable use of significant whitespace. Its language constructs and \n",
    "object-oriented approach aim to help programmers write clear, logical code for small and large-scale projects.\n",
    "''')\n",
    "f.close()\n",
    "f=open(\"sample.txt\",\"r\")\n",
    "lines=list(f)\n",
    "print(\"No of lines \",len(lines))\n",
    "f=open(\"sample.txt\",\"r\")\n",
    "cw=0\n",
    "cl=0\n",
    "for i in f:\n",
    "    w1=i.split()\n",
    "    cw+=len(w1)    \n",
    "print(\"no of words\",cw)\n",
    "f=open(\"sample.txt\",\"r\")\n",
    "data=f.read()\n",
    "print(\"no of letters \",len(data))\n",
    "f.close()"
   ]
  },
  {
   "cell_type": "markdown",
   "metadata": {},
   "source": [
    "Question 2:\n",
    "\n",
    "Copy the content of one file to another\n"
   ]
  },
  {
   "cell_type": "code",
   "execution_count": 2,
   "metadata": {},
   "outputs": [],
   "source": [
    "f=open(\"sample.txt\",\"r\")\n",
    "f1=open(\"sample1.txt\",\"w\")\n",
    "for i in f:\n",
    "    f1.write(i)\n",
    "f2=open(\"sample1.txt\",\"r\")\n",
    "for i in f2\n"
   ]
  },
  {
   "cell_type": "markdown",
   "metadata": {},
   "source": [
    "Question 3:\n",
    "\n",
    "Display the words starting with letter 'p'\n"
   ]
  },
  {
   "cell_type": "code",
   "execution_count": 3,
   "metadata": {},
   "outputs": [
    {
     "name": "stdout",
     "output_type": "stream",
     "text": [
      "Python\n",
      "programming\n",
      "Python's\n",
      "philosophy\n",
      "programmers\n",
      "projects.\n"
     ]
    }
   ],
   "source": [
    "f=open(\"sample.txt\",\"r\")\n",
    "data=f.read()\n",
    "dwords=data.split()\n",
    "for i in dwords:\n",
    "    if(i[0]=='p' or i[0]=='P'):\n",
    "        print(i)\n",
    "f.close()"
   ]
  },
  {
   "cell_type": "code",
   "execution_count": 4,
   "metadata": {},
   "outputs": [],
   "source": [
    "import os\n",
    "os.rename(\"sample.txt\",\"sam.txt\")\n",
    "os.remove(\"sam.txt\")"
   ]
  },
  {
   "cell_type": "markdown",
   "metadata": {},
   "source": [
    "Question 5:\n",
    "\n",
    "Create a folder \n",
    "\n",
    "Goto that folder and create 5 no.of files\n",
    "\n",
    "All the file names should be unique\n",
    "\n",
    "Add some content into the file and the content in all the files should be unique\n",
    "\n",
    "File size should be 512bytes\n"
   ]
  },
  {
   "cell_type": "code",
   "execution_count": 40,
   "metadata": {},
   "outputs": [],
   "source": [
    "import os\n",
    "f=open(\"Folder-python/f.txt\",\"w\")\n",
    "f1=open(\"Folder-python/f1.txt\",\"w\")\n",
    "f2=open(\"Folder-python/f2.txt\",\"w\")\n",
    "f3=open(\"Folder-python/f3.txt\",\"w\")\n",
    "f4=open(\"Folder-python/f4.txt\",\"w\")\n",
    "f.write('''Apple is one of the most common fruits consumed all around the world. It has a sweet taste,though it can get a little tangy if unripe, and has a long shelf life. It's dietary fibre and Vitamin C content makes it a potent food against many diseases including cancer. Usually red and green in colour, there is a golden variant too. In India, apple is mainly grown in the hilly areas of Himachal and Kashmir. It is grown in other areas too, but the yeild is insignificant.Apple is a winter fruit, but is available any''')\n",
    "f1.write(''' \n",
    "Mango is the national fruit of India.\n",
    "Mango is the king of fruits.\n",
    "It is a very sweet and delicious fruit.\n",
    "There are more than 100 varieties of mangoes in our country India.\n",
    "Summer is the season when Indians wait for the king of fruits.\n",
    "Mango juice is the world’s favourite juice.\n",
    "Mango is rich in vitamins A, C, and D. These vitamins help prevent diseases.\n",
    "Mango is a bodybuilding fruit. Pickles and jams are also made from mangoes.\n",
    "Children also like to eat mangoes.\n",
    "We should always eat sweet mangoes.\n",
    "''')\n",
    "f2.write('''Watermelon (Citrullus lanatus) is a plant species in the family Cucurbitaceae, a vine-like flowering plant originally domesticated in West Africa. It is a highly cultivated fruit worldwide, having more than 1000 varieties.\n",
    "Watermelon is a scrambling and trailing vine in the flowering plant family Cucurbitaceae. There is evidence from seeds in Pharaoh tombs of watermelon cultivation in Ancient Egypt. Watermelon is grown in favorable climates from tropical to temperate regions worldwide for its large edible fruit''')\n",
    "f3.write('''\n",
    "An orange is a type of citrus fruit that people often eat. Oranges are a very good source of vitamin C.[1] Orange juice is an important part of many people's breakfast. The \"sweet orange\", which is the kind that are most often eaten today, grew first in South and East Asia but now grows in lots of parts of the world.\n",
    "Oranges are round orange-coloured fruit that grow on a tree which can reach 10 metres (33 ft) high. Orange trees have dark green shiny leaves and small white flowers with five petals. \n",
    "\n",
    "\n",
    "''')\n",
    "f4.write('''The fruit is typically in season in the Northern Hemisphere from September to February,[3] and in the Southern Hemisphere from March to May. As intact sarcotestas or juice, pomegranates are used in baking, cooking, juice blends, meal garnishes, smoothies, and alcoholic beverages, such as cocktails and wine.Today, it is widely cultivated throughout the Middle East and Caucasus region, north and tropical Africa,the Indian subcontinent, Central Asia, the drier parts of southeast Asia, and parts of the Mediterranean''')\n",
    "f.close()\n",
    "f1.close()\n",
    "f2.close()\n",
    "f3.close()\n",
    "f4.close()"
   ]
  },
  {
   "cell_type": "code",
   "execution_count": null,
   "metadata": {},
   "outputs": [],
   "source": []
  },
  {
   "cell_type": "code",
   "execution_count": null,
   "metadata": {},
   "outputs": [],
   "source": []
  },
  {
   "cell_type": "code",
   "execution_count": null,
   "metadata": {},
   "outputs": [],
   "source": []
  }
 ],
 "metadata": {
  "kernelspec": {
   "display_name": "Python 3",
   "language": "python",
   "name": "python3"
  },
  "language_info": {
   "codemirror_mode": {
    "name": "ipython",
    "version": 3
   },
   "file_extension": ".py",
   "mimetype": "text/x-python",
   "name": "python",
   "nbconvert_exporter": "python",
   "pygments_lexer": "ipython3",
   "version": "3.7.6"
  }
 },
 "nbformat": 4,
 "nbformat_minor": 4
}
