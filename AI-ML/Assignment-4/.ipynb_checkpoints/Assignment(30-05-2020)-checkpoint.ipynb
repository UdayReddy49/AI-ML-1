{
 "cells": [
  {
   "cell_type": "markdown",
   "metadata": {},
   "source": [
    "# CSE-221710305047-SAI_D_VETUKURI"
   ]
  },
  {
   "cell_type": "markdown",
   "metadata": {},
   "source": [
    "Question 1:\n",
    "\n",
    "Count the no.of words,no.of letters,no.of lines available in your file\n"
   ]
  },
  {
   "cell_type": "code",
   "execution_count": null,
   "metadata": {},
   "outputs": [],
   "source": [
    "f=open(\"sample.txt\",\"w\")\n",
    "f.write('''Python is an interpreted, high-level, general-purpose programming language. \n",
    "Created by Guido van Rossum and first released in 1991, Python's design philosophy emphasizes \n",
    "code readability with its notable use of significant whitespace. Its language constructs and \n",
    "object-oriented approach aim to help programmers write clear, logical code for small and large-scale projects.\n",
    "''')\n",
    "f.close()\n",
    "f=open(\"sample.txt\",\"r\")\n",
    "lines=list(f)\n",
    "print(\"No of lines \",len(lines))\n",
    "f=open(\"sample.txt\",\"r\")\n",
    "cw=0\n",
    "cl=0\n",
    "for i in f:\n",
    "    w1=i.split()\n",
    "    cw+=len(w1)    \n",
    "print(\"no of words\",cw)\n",
    "f=open(\"sample.txt\",\"r\")\n",
    "data=f.read()\n",
    "print(\"no of letters \",len(data))\n",
    "f.close()"
   ]
  },
  {
   "cell_type": "markdown",
   "metadata": {},
   "source": [
    "Question 2:\n",
    "\n",
    "Copy the content of one file to another\n"
   ]
  },
  {
   "cell_type": "code",
   "execution_count": null,
   "metadata": {},
   "outputs": [],
   "source": [
    "f=open(\"sample.txt\",\"r\")\n",
    "f1=open(\"sample1.txt\",\"w\")\n",
    "for i in f:\n",
    "    f1.write(i)\n",
    "f2=open(\"sample1.txt\",\"r\")\n",
    "data=f2.read()\n",
    "print(data)\n",
    "f.close()\n",
    "f1.close()\n",
    "f2.close()"
   ]
  },
  {
   "cell_type": "markdown",
   "metadata": {},
   "source": [
    "Question 3:\n",
    "\n",
    "Display the words starting with letter 'p'\n"
   ]
  },
  {
   "cell_type": "code",
   "execution_count": null,
   "metadata": {},
   "outputs": [],
   "source": [
    "f=open(\"sample.txt\",\"r\")\n",
    "data=f.read()\n",
    "dwords=data.split()\n",
    "for i in dwords:\n",
    "    if(i[0]=='p' or i[0]=='P'):\n",
    "        print(i)\n",
    "f.close()"
   ]
  },
  {
   "cell_type": "code",
   "execution_count": null,
   "metadata": {},
   "outputs": [],
   "source": [
    "import os\n",
    "os.rename(\"sample.txt\",\"sam.txt\")\n",
    "os.remove(\"sam.txt\")"
   ]
  },
  {
   "cell_type": "markdown",
   "metadata": {},
   "source": [
    "Question 5:\n",
    "\n",
    "Create a folder \n",
    "\n",
    "Goto that folder and create 5 no.of files\n",
    "\n",
    "All the file names should be unique\n",
    "\n",
    "Add some content into the file and the content in all the files should be unique\n",
    "\n",
    "File size should be 512bytes\n"
   ]
  },
  {
   "cell_type": "code",
   "execution_count": 21,
   "metadata": {},
   "outputs": [],
   "source": [
    "import os\n",
    "f=open(\"Folder-python/f.txt\",\"w\")\n",
    "f1=open(\"Folder-python/f1.txt\",\"w\")\n",
    "f2=open(\"Folder-python/f2.txt\",\"w\")\n",
    "f3=open(\"Folder-python/f3.txt\",\"w\")\n",
    "f4=open(\"Folder-python/f4.txt\",\"w\")\n",
    "f.write('''\n",
    "Apple is one of the most common fruits consumed all around the world. It has a sweet taste,\n",
    "though it can get a little tangy if unripe, and has a long shelf life. It's dietary fibre and\n",
    "Vitamin C content makes it a potent food against many diseases including cancer. Usually red \n",
    "and green in colour, there is a golden variant too. In India, apple is mainly grown in the hilly \n",
    "areas of Himachal and Kashmir. It is grown in other areas too, but the yeild is insignificant. \n",
    "Apple is a winter fruit, but is available throughout the year.  \n",
    "''')\n",
    "f1.write(''' \n",
    "Mango is the national fruit of India.\n",
    "Mango is the king of fruits.\n",
    "It is a very sweet and delicious fruit.\n",
    "There are more than 100 varieties of mangoes in our country India.\n",
    "Summer is the season when Indians wait for the king of fruits.\n",
    "Mango juice is the world’s favourite juice.\n",
    "Mango is rich in vitamins A, C, and D. These vitamins help prevent diseases.\n",
    "Mango is a bodybuilding fruit. Pickles and jams are also made from mangoes.\n",
    "Children also like to eat mangoes.\n",
    "We should always eat sweet mangoes.\n",
    "''')\n",
    "f2.write('''\n",
    "A watermelon is a type of edible fruit, they are 92% water. About 6% of a watermelon is sugar, \n",
    "which makes it very sweet. There are many different types of watermelon. Some have a green rind\n",
    "on the outside and a red-pink flesh on the inside, with brown seeds. Some can have yellow flesh, \n",
    "and some can be seedless. The green rind on the outside is not usually eaten, though it can be used\n",
    "as a vegetable.It can also be stewed or pickled. Most watermelons are oblong or spherical. In Japan,\n",
    "watermelons are grown in different shapes. ''')\n",
    "f3.write('''\n",
    "An orange is a type of citrus fruit that people often eat. Oranges are a very good source of vitamin C.[1] Orange juice is an important part of many people's breakfast. The \"sweet orange\", which is the kind that are most often eaten today, grew first in South and East Asia but now grows in lots of parts of the world.\n",
    "\n",
    "Oranges are round orange-coloured fruit that grow on a tree which can reach 10 metres (33 ft) high. Orange trees have dark green shiny leaves and small white flowers with five petals. \n",
    "\n",
    "\n",
    "''')\n",
    "f4.write('''\n",
    "The pomegranate (Punica granatum) is a fruit-bearing deciduous shrub in the family Lythraceae, subfamily Punicoideae, that grows between 5 and 10 m (16 and 33 ft) tall.\n",
    "\n",
    "\n",
    "Young pomegranate in Side, Turkey\n",
    "The pomegranate originated in the region extending from Iran to northern India,[2] and has been cultivated since ancient times throughout the Mediterranean region. It was introduced into Spanish America in the late 16th century and into California by Spanish settlers in 1769.[2]\n",
    "\n",
    "The fruit is typically in season in the Northern Hemisphere from September to February,[3] and in the Southern Hemisphere from March to May.\n",
    "''')\n",
    "f.close()\n",
    "f1.close()\n",
    "f2.close()\n",
    "f3.close()\n",
    "f4.close()"
   ]
  },
  {
   "cell_type": "code",
   "execution_count": null,
   "metadata": {},
   "outputs": [],
   "source": []
  },
  {
   "cell_type": "code",
   "execution_count": null,
   "metadata": {},
   "outputs": [],
   "source": []
  },
  {
   "cell_type": "code",
   "execution_count": null,
   "metadata": {},
   "outputs": [],
   "source": []
  }
 ],
 "metadata": {
  "kernelspec": {
   "display_name": "Python 3",
   "language": "python",
   "name": "python3"
  },
  "language_info": {
   "codemirror_mode": {
    "name": "ipython",
    "version": 3
   },
   "file_extension": ".py",
   "mimetype": "text/x-python",
   "name": "python",
   "nbconvert_exporter": "python",
   "pygments_lexer": "ipython3",
   "version": "3.7.6"
  }
 },
 "nbformat": 4,
 "nbformat_minor": 4
}
