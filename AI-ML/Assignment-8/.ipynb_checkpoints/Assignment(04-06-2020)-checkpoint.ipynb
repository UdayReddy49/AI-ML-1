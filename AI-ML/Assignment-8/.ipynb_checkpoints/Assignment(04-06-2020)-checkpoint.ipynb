{
 "cells": [
  {
   "cell_type": "markdown",
   "metadata": {},
   "source": [
    "Question 1:\n",
    "[Reversing an Array] \n",
    "Write a NumPy program to reverse an array (first element becomes last). \n",
    "Original array:\n",
    "[12 13 14 15 16 17 18 19 20 21 22 23 24 25 26 27 28 29 30 31 32 33 34 35 36 37]\n",
    "Reverse array:\n",
    "[37 36 35 34 33 32 31 30 29 28 27 26 25 24 23 22 21 20 19 18 17 16 15 14 13 12]\n"
   ]
  },
  {
   "cell_type": "code",
   "execution_count": 89,
   "metadata": {},
   "outputs": [],
   "source": [
    "import numpy as np"
   ]
  },
  {
   "cell_type": "code",
   "execution_count": 90,
   "metadata": {},
   "outputs": [
    {
     "name": "stdout",
     "output_type": "stream",
     "text": [
      "[12 13 14 15 16 17 18 19 20 21 22 23 24 25 26 27 28 29 30 31 32 33 34 35\n",
      " 36 37]\n",
      "[37 36 35 34 33 32 31 30 29 28 27 26 25 24 23 22 21 20 19 18 17 16 15 14\n",
      " 13 12]\n"
     ]
    }
   ],
   "source": [
    "a=np.array([12,13,14,15, 16 ,17, 18, 19, 20, 21, 22, 23, 24, 25, 26, 27, 28, 29, 30, 31, 32, 33, 34, 35, 36, 37])\n",
    "print(a)\n",
    "print(a[::-1])"
   ]
  },
  {
   "cell_type": "markdown",
   "metadata": {},
   "source": [
    "[Make Border 1] \n",
    "Write a NumPy program to create a 2d array with 1 on the border and 0 inside. \n",
    "Original array:\n",
    "[[ 1. 1. 1. 1. 1.]\n",
    "...................\n",
    "[ 1. 1. 1. 1. 1.]]\n",
    "1 on the border and 0 inside in the array\n",
    "Expected output:\n",
    "[[ 1. 1. 1. 1. 1.]\n",
    " [1. 0. 0. 0. 1.]\n",
    "……………..\n",
    " [1. 0. 0. 0. 1.]\n",
    "[ 1. 1. 1. 1. 1.]]\n"
   ]
  },
  {
   "cell_type": "code",
   "execution_count": 91,
   "metadata": {},
   "outputs": [
    {
     "name": "stdout",
     "output_type": "stream",
     "text": [
      "enter the number of rows5\n",
      "enter the number of columns5\n",
      "original array\n",
      "[[1. 1. 1. 1. 1.]\n",
      " [1. 1. 1. 1. 1.]\n",
      " [1. 1. 1. 1. 1.]\n",
      " [1. 1. 1. 1. 1.]\n",
      " [1. 1. 1. 1. 1.]]\n",
      "array with border 1\n",
      "[[1. 1. 1. 1. 1.]\n",
      " [1. 0. 0. 0. 1.]\n",
      " [1. 0. 0. 0. 1.]\n",
      " [1. 0. 0. 0. 1.]\n",
      " [1. 1. 1. 1. 1.]]\n"
     ]
    }
   ],
   "source": [
    "m=int(input(\"enter the number of rows\"))\n",
    "n=int(input(\"enter the number of columns\"))\n",
    "a=np.ones((m,n))\n",
    "print(\"original array\")\n",
    "print(a)\n",
    "a[1:m-1,1:n-1]=0\n",
    "print(\"array with border 1\")\n",
    "print(a)"
   ]
  },
  {
   "cell_type": "markdown",
   "metadata": {},
   "source": [
    "Question 3:\n",
    "[Membership Test] \n",
    "Write a NumPy program to test whether each element of a 1-D array is also present in a second array.\n",
    "Expected Output:\n",
    "Array1: [ 0 10 20 40 60]\n",
    "Array2: [0, 40]\n",
    "Compare each element of array1 and array2\n",
    "[ True False False True False]\n",
    "\n"
   ]
  },
  {
   "cell_type": "code",
   "execution_count": 92,
   "metadata": {},
   "outputs": [
    {
     "name": "stdout",
     "output_type": "stream",
     "text": [
      "enter array 10 10 20 40 60\n",
      "enter array 20 40\n",
      "[ 0 10 20 40 60]\n",
      "[ 0 40]\n",
      "[ True False False  True False]\n"
     ]
    }
   ],
   "source": [
    "a=list(map(int,input(\"enter array 1\").split()))\n",
    "arr1=np.array(a)\n",
    "a=list(map(int,input(\"enter array 2\").split()))\n",
    "arr2=np.array(a)\n",
    "print(arr1)\n",
    "print(arr2)\n",
    "result=(i in arr2 for i in arr1 )\n",
    "print(np.array(list(result)))"
   ]
  },
  {
   "cell_type": "markdown",
   "metadata": {},
   "source": [
    "Question 4:\n",
    "[Set Difference] \n",
    "Write a NumPy program to find the set difference of two arrays. The set difference will return the sorted, unique values in array1 that are not in array2.\n",
    "Expected Output:\n",
    "Array1: [ 0 10 20 40 60 80]\n",
    "Array2: [10, 30, 40, 50, 70, 90]\n",
    "Set difference between two arrays:\n",
    "[ 0 20 60 80]\n"
   ]
  },
  {
   "cell_type": "code",
   "execution_count": 93,
   "metadata": {},
   "outputs": [
    {
     "name": "stdout",
     "output_type": "stream",
     "text": [
      "enter the array10 10 20 40 60 80\n",
      "enter the array210 30 40 50 70 90\n",
      "[ 0 20 60 80]\n"
     ]
    }
   ],
   "source": [
    "arr1=np.array(list(map(int,input(\"enter the array1\").split())))\n",
    "arr2=np.array(list(map(int,input(\"enter the array2\").split())))\n",
    "print(np.setdiff1d(arr1,arr2))"
   ]
  },
  {
   "cell_type": "markdown",
   "metadata": {},
   "source": [
    "Question 5:\n",
    "[Formation of Diagonal Matrix] \n",
    "Write a NumPy program to create a 2-D array whose diagonal equals [4, 5, 6, 8] and 0's elsewhere.\n",
    "Expected Output:\n",
    "[[4 0 0 0]\n",
    "[0 5 0 0]\n",
    "[0 0 6 0]\n",
    "[0 0 0 8]]\n",
    "\n"
   ]
  },
  {
   "cell_type": "code",
   "execution_count": 95,
   "metadata": {},
   "outputs": [
    {
     "name": "stdout",
     "output_type": "stream",
     "text": [
      "[[4 0 0 0]\n",
      " [0 5 0 0]\n",
      " [0 0 6 0]\n",
      " [0 0 0 8]]\n"
     ]
    }
   ],
   "source": [
    "a=np.array([4,5,6,8])\n",
    "d=np.diag(a)\n",
    "print(d)\n"
   ]
  },
  {
   "cell_type": "code",
   "execution_count": null,
   "metadata": {},
   "outputs": [],
   "source": []
  }
 ],
 "metadata": {
  "kernelspec": {
   "display_name": "Python 3",
   "language": "python",
   "name": "python3"
  },
  "language_info": {
   "codemirror_mode": {
    "name": "ipython",
    "version": 3
   },
   "file_extension": ".py",
   "mimetype": "text/x-python",
   "name": "python",
   "nbconvert_exporter": "python",
   "pygments_lexer": "ipython3",
   "version": "3.7.6"
  }
 },
 "nbformat": 4,
 "nbformat_minor": 4
}
