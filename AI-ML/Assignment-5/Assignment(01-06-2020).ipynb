{
 "cells": [
  {
   "cell_type": "markdown",
   "metadata": {},
   "source": [
    "# CSE-221710305047-SAI_D_VETUKURI"
   ]
  },
  {
   "cell_type": "markdown",
   "metadata": {},
   "source": [
    "### Password Picker"
   ]
  },
  {
   "cell_type": "code",
   "execution_count": 2,
   "metadata": {},
   "outputs": [
    {
     "name": "stdout",
     "output_type": "stream",
     "text": [
      "uglysiva5@\n",
      "want another password ?yes\n",
      "uglysai90=\n",
      "want another password ?yes\n",
      "attractiveraju100\\\n",
      "want another password ?yes\n",
      "tallsandeep7`\n",
      "want another password ?yes\n",
      "goodpremanth96[\n",
      "want another password ?yes\n",
      "tallhemanth63?\n",
      "want another password ?yes\n",
      "lowsrinu93-\n",
      "want another password ?yess\n",
      "fitdurga31;\n",
      "want another password ?yes\n",
      "lowanjali34&\n",
      "want another password ?yes\n",
      "greathemanth45*\n",
      "want another password ?no\n",
      "['uglysiva5@', 'uglysai90=', 'attractiveraju100\\\\', 'tallsandeep7`', 'goodpremanth96[', 'tallhemanth63?', 'lowsrinu93-', 'fitdurga31;', 'lowanjali34&', 'greathemanth45*']\n"
     ]
    }
   ],
   "source": [
    "import random\n",
    "import string\n",
    "password=[]\n",
    "ans=\"Yes\"\n",
    "while(ans!=\"No\" and ans!=\"no\"):\n",
    "    adjective=[\"attractive\",\"ugly\",\"good\",\"bad\",\"fit\",\"fat\",\"short\",\"tall\",\"great\",\"average\",\"high\",\"low\",\"big\",\"small\"]\n",
    "    noun=[\"sai\",\"durga\",\"srinu\",\"raju\",\"siva\",\"padmini\",\"krishna\",\"anjali\",\"nikhil\",\"priya\",\"sandeep\",\"akhilesh\",\"premanth\",\"hemanth\"]\n",
    "    punctuation=list(string.punctuation)\n",
    "    adj=random.choice(adjective)\n",
    "    n=random.choice(noun)\n",
    "    num=random.randint(0,100)\n",
    "    pun=random.choice(punctuation)\n",
    "    print(adj+n+str(num)+pun)\n",
    "    password.append(adj+n+str(num)+pun)\n",
    "    ans=input(\"want another password ?\")\n",
    "print(password)"
   ]
  },
  {
   "cell_type": "code",
   "execution_count": null,
   "metadata": {},
   "outputs": [],
   "source": []
  },
  {
   "cell_type": "code",
   "execution_count": null,
   "metadata": {},
   "outputs": [],
   "source": []
  }
 ],
 "metadata": {
  "kernelspec": {
   "display_name": "Python 3",
   "language": "python",
   "name": "python3"
  },
  "language_info": {
   "codemirror_mode": {
    "name": "ipython",
    "version": 3
   },
   "file_extension": ".py",
   "mimetype": "text/x-python",
   "name": "python",
   "nbconvert_exporter": "python",
   "pygments_lexer": "ipython3",
   "version": "3.7.6"
  }
 },
 "nbformat": 4,
 "nbformat_minor": 4
}
