{
 "cells": [
  {
   "cell_type": "markdown",
   "metadata": {},
   "source": [
    "# CSE-221710305047-SAI_D_VETUKURI"
   ]
  },
  {
   "cell_type": "markdown",
   "metadata": {},
   "source": [
    "### Password Picker"
   ]
  },
  {
   "cell_type": "code",
   "execution_count": 1,
   "metadata": {},
   "outputs": [
    {
     "name": "stdout",
     "output_type": "stream",
     "text": [
      "averagesandeep11\\\n",
      "want another password ?yes\n",
      "lowakhilesh32>\n",
      "want another password ?yes\n",
      "bigraju59`\n",
      "want another password ?yes\n",
      "smallpriya95?\n",
      "want another password ?yes\n",
      "lowraju90-\n",
      "want another password ?yes\n",
      "highnikhil94.\n",
      "want another password ?yes\n",
      "averageraju39}\n",
      "want another password ?no\n",
      "['averagesandeep11\\\\', 'lowakhilesh32>', 'bigraju59`', 'smallpriya95?', 'lowraju90-', 'highnikhil94.', 'averageraju39}']\n"
     ]
    }
   ],
   "source": [
    "import random\n",
    "import string\n",
    "password=[]\n",
    "ans=\"Yes\"\n",
    "while(ans!=\"No\" and ans!=\"no\"):\n",
    "    adjective=[\"attractive\",\"ugly\",\"good\",\"bad\",\"fit\",\"fat\",\"short\",\"tall\",\"great\",\"average\",\"high\",\"low\",\"big\",\"small\"]\n",
    "    noun=[\"sai\",\"durga\",\"srinu\",\"raju\",\"siva\",\"padmini\",\"krishna\",\"anjali\",\"nikhil\",\"priya\",\"sandeep\",\"akhilesh\",\"premanth\",\"hemanth\"]\n",
    "    punctuation=list(string.punctuation)\n",
    "    adj=random.choice(adjective)\n",
    "    n=random.choice(noun)\n",
    "    num=random.randint(0,100)\n",
    "    pun=random.choice(punctuation)\n",
    "    print(adj+n+str(num)+pun)\n",
    "    password.append(adj+n+str(num)+pun)\n",
    "    ans=input(\"want another password ?\")\n",
    "print(password)"
   ]
  },
  {
   "cell_type": "code",
   "execution_count": null,
   "metadata": {},
   "outputs": [],
   "source": []
  },
  {
   "cell_type": "code",
   "execution_count": null,
   "metadata": {},
   "outputs": [],
   "source": []
  }
 ],
 "metadata": {
  "kernelspec": {
   "display_name": "Python 3",
   "language": "python",
   "name": "python3"
  },
  "language_info": {
   "codemirror_mode": {
    "name": "ipython",
    "version": 3
   },
   "file_extension": ".py",
   "mimetype": "text/x-python",
   "name": "python",
   "nbconvert_exporter": "python",
   "pygments_lexer": "ipython3",
   "version": "3.7.6"
  }
 },
 "nbformat": 4,
 "nbformat_minor": 4
}
