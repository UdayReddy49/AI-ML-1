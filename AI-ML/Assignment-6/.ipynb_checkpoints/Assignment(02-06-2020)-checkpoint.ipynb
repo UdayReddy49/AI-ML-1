{
 "cells": [
  {
   "cell_type": "markdown",
   "metadata": {},
   "source": [
    "# CSE-221710305047-SAI_D_VETUKURI\n",
    "\n",
    "### Nine Lives"
   ]
  },
  {
   "cell_type": "code",
   "execution_count": 2,
   "metadata": {},
   "outputs": [
    {
     "name": "stdout",
     "output_type": "stream",
     "text": [
      "['?', '?', '?', '?', '?']\n",
      "lives left 9\n",
      "enter the word or letters\n",
      "['?', '?', '?', '?', '?']\n",
      "lives left 8\n",
      "enter the word or lettera\n",
      "['?', '?', 'a', '?', '?']\n",
      "lives left 8\n",
      "enter the word or lettert\n",
      "['?', '?', 'a', '?', '?']\n",
      "lives left 7\n",
      "enter the word or letterg\n",
      "['?', '?', 'a', '?', '?']\n",
      "lives left 6\n",
      "enter the word or letterr\n",
      "['?', '?', 'a', 'r', '?']\n",
      "lives left 6\n",
      "enter the word or letterl\n",
      "['l', '?', 'a', 'r', '?']\n",
      "lives left 6\n",
      "enter the word or lettere\n",
      "['l', 'e', 'a', 'r', '?']\n",
      "lives left 6\n",
      "enter the word or lettern\n",
      "You won!\n",
      "['l', 'e', 'a', 'r', 'n']\n",
      "the secret word is learn\n"
     ]
    }
   ],
   "source": [
    "import random\n",
    "words=[\"pizza\",\"hello\",\"apple\",\"super\",\"santa\",\"rambo\",\"caste\",\"learn\",\"inbox\",\"check\"]\n",
    "word=random.choice(words)\n",
    "lives=9\n",
    "wordq=['?','?','?','?','?']\n",
    "while(lives>0):\n",
    "    print(wordq)\n",
    "    print(\"lives left\",lives)\n",
    "    letter=input(\"enter the word or letter\")\n",
    "    if((letter in word and len(letter)==1)):\n",
    "        c=word.count(letter)\n",
    "        for i in range(0,len(wordq)):\n",
    "            if letter == word[i] and letter == wordq[i]:\n",
    "                c-=1\n",
    "                continue\n",
    "            elif (letter ==word[i]):\n",
    "                wordq[i]=letter\n",
    "                break\n",
    "        if(c==0):\n",
    "            lives-=1\n",
    "        if('?' not in wordq):\n",
    "            print(\"You won!\")\n",
    "            print(wordq)\n",
    "            print(\"the secret word is\",word)\n",
    "            break\n",
    "            break\n",
    "    elif(letter==word):\n",
    "        for i in range(0,len(letter)):\n",
    "            wordq[i]=letter[i]\n",
    "        print(\"You won!\")\n",
    "        print(wordq)\n",
    "        print(\"the secret word is\",word)\n",
    "        break\n",
    "        \n",
    "    else:\n",
    "        lives-=1\n",
    "        \n",
    "if(lives==0):\n",
    "    print(\"game over\")\n",
    "    print(\"the secret word is\",word)"
   ]
  },
  {
   "cell_type": "code",
   "execution_count": null,
   "metadata": {},
   "outputs": [],
   "source": []
  },
  {
   "cell_type": "code",
   "execution_count": null,
   "metadata": {},
   "outputs": [],
   "source": []
  }
 ],
 "metadata": {
  "kernelspec": {
   "display_name": "Python 3",
   "language": "python",
   "name": "python3"
  },
  "language_info": {
   "codemirror_mode": {
    "name": "ipython",
    "version": 3
   },
   "file_extension": ".py",
   "mimetype": "text/x-python",
   "name": "python",
   "nbconvert_exporter": "python",
   "pygments_lexer": "ipython3",
   "version": "3.7.6"
  }
 },
 "nbformat": 4,
 "nbformat_minor": 4
}
