{
 "cells": [
  {
   "cell_type": "markdown",
   "metadata": {},
   "source": [
    "# CSE-221710305047-SAI_D_VETUKURI\n",
    "\n",
    "### Nine Lives"
   ]
  },
  {
   "cell_type": "code",
   "execution_count": 3,
   "metadata": {},
   "outputs": [
    {
     "name": "stdout",
     "output_type": "stream",
     "text": [
      "['?', '?', '?', '?', '?']\n",
      "lives left 9\n",
      "enter the word or lettera\n",
      "['?', '?', '?', '?', '?']\n",
      "lives left 8\n",
      "enter the word or letterr\n",
      "['?', '?', '?', '?', '?']\n",
      "lives left 7\n",
      "enter the word or letterl\n",
      "['?', '?', '?', '?', '?']\n",
      "lives left 6\n",
      "enter the word or letteri\n",
      "['i', '?', '?', '?', '?']\n",
      "lives left 6\n",
      "enter the word or letteri\n",
      "['i', '?', '?', '?', '?']\n",
      "lives left 5\n",
      "enter the word or letteri\n",
      "['i', '?', '?', '?', '?']\n",
      "lives left 4\n",
      "enter the word or letteri\n",
      "['i', '?', '?', '?', '?']\n",
      "lives left 3\n",
      "enter the word or letteri\n",
      "['i', '?', '?', '?', '?']\n",
      "lives left 2\n",
      "enter the word or letteri\n",
      "['i', '?', '?', '?', '?']\n",
      "lives left 1\n",
      "enter the word or letterinbox\n",
      "You won!\n",
      "['i', 'n', 'b', 'o', 'x']\n",
      "the secret word is inbox\n"
     ]
    }
   ],
   "source": [
    "import random\n",
    "words=[\"pizza\",\"hello\",\"apple\",\"super\",\"santa\",\"rambo\",\"caste\",\"learn\",\"inbox\",\"check\"]\n",
    "word=random.choice(words)\n",
    "lives=9\n",
    "wordq=['?','?','?','?','?']\n",
    "while(lives>0):\n",
    "    print(wordq)\n",
    "    print(\"lives left\",lives)\n",
    "    letter=input(\"enter the word or letter\")\n",
    "    if((letter in word and len(letter)==1)):\n",
    "        c=word.count(letter)\n",
    "        for i in range(0,len(wordq)):\n",
    "            if letter == word[i] and letter == wordq[i]:\n",
    "                c-=1\n",
    "                continue\n",
    "            elif (letter ==word[i]):\n",
    "                wordq[i]=letter\n",
    "                break\n",
    "        if(c==0):\n",
    "            lives-=1\n",
    "        if('?' not in wordq):\n",
    "            print(\"You won!\")\n",
    "            print(wordq)\n",
    "            print(\"the secret word is\",word)\n",
    "            break\n",
    "            break\n",
    "    elif(letter==word):\n",
    "        for i in range(0,len(letter)):\n",
    "            wordq[i]=letter[i]\n",
    "        print(\"You won!\")\n",
    "        print(wordq)\n",
    "        print(\"the secret word is\",word)\n",
    "        break\n",
    "        \n",
    "    else:\n",
    "        lives-=1\n",
    "        \n",
    "if(lives==0):\n",
    "    print(\"game over\")\n",
    "    print(\"the secret word is\",word)"
   ]
  },
  {
   "cell_type": "code",
   "execution_count": null,
   "metadata": {},
   "outputs": [],
   "source": []
  },
  {
   "cell_type": "code",
   "execution_count": null,
   "metadata": {},
   "outputs": [],
   "source": []
  }
 ],
 "metadata": {
  "kernelspec": {
   "display_name": "Python 3",
   "language": "python",
   "name": "python3"
  },
  "language_info": {
   "codemirror_mode": {
    "name": "ipython",
    "version": 3
   },
   "file_extension": ".py",
   "mimetype": "text/x-python",
   "name": "python",
   "nbconvert_exporter": "python",
   "pygments_lexer": "ipython3",
   "version": "3.7.6"
  }
 },
 "nbformat": 4,
 "nbformat_minor": 4
}
