{
 "cells": [
  {
   "cell_type": "markdown",
   "metadata": {},
   "source": [
    "# CSE-221710305047-SAI_D_VETUKURI"
   ]
  },
  {
   "cell_type": "markdown",
   "metadata": {},
   "source": [
    "Question 1:\n",
    "\n",
    "Accept a string from the user and count no.of vowels,consonants and special characters\n"
   ]
  },
  {
   "cell_type": "code",
   "execution_count": 1,
   "metadata": {},
   "outputs": [
    {
     "name": "stdout",
     "output_type": "stream",
     "text": [
      "sai@gmail.com\n",
      "no of vowels 5\n",
      "no of consonants 6\n",
      "no of special characters 2\n"
     ]
    }
   ],
   "source": [
    "s=input()\n",
    "v=0\n",
    "c=0\n",
    "sp=0\n",
    "for i in s:\n",
    "    if(i=='a' or i=='A' or i=='e' or i=='E' or i=='i' or i=='I' or i=='o' or i=='O' or i=='u' or i=='U'):\n",
    "        v+=1\n",
    "    elif(i=='!' or i=='@' or i=='#' or i=='$' or i=='&' or i=='\"' or i=='.' or i=='-' or i==',' or i=='^'):\n",
    "        sp+=1\n",
    "    else:\n",
    "        c+=1\n",
    "print(\"no of vowels\",v)\n",
    "print(\"no of consonants\",c)\n",
    "print(\"no of special characters\",sp)"
   ]
  },
  {
   "cell_type": "markdown",
   "metadata": {},
   "source": [
    "Question 2:\n",
    "\n",
    "count the no.of pairs of a in the given string(Infosys InfyTQ)\n",
    "\n",
    "    string →  \"abbaaccbbaaa\"\n",
    "    \n",
    "    output →  2\n"
   ]
  },
  {
   "cell_type": "code",
   "execution_count": 4,
   "metadata": {},
   "outputs": [
    {
     "name": "stdout",
     "output_type": "stream",
     "text": [
      "abbaaccbbaaa\n",
      "2\n"
     ]
    }
   ],
   "source": [
    "s=input()\n",
    "c=0\n",
    "p=0\n",
    "for i in s:\n",
    "    if(i=='a' and c==0):\n",
    "        c=1\n",
    "    elif(i=='a' and c==1):\n",
    "        c=0\n",
    "        p+=1\n",
    "    else:\n",
    "        c=0\n",
    "print(p)\n",
    "        \n",
    "\n",
    "\n",
    "\n",
    "        \n",
    "        \n",
    "\n",
    "    \n",
    "        "
   ]
  },
  {
   "cell_type": "markdown",
   "metadata": {},
   "source": [
    "Question 3:\n",
    "\n",
    "    Test case1:\n",
    "    \n",
    "        string →  \"((((()()()))))()\"\n",
    "        \n",
    "        output →  8\n",
    "        \n",
    "    Test case2:\n",
    "    \n",
    "        string →  \"((()))()\"\n",
    "        \n",
    "        Output →  4\n"
   ]
  },
  {
   "cell_type": "code",
   "execution_count": 15,
   "metadata": {},
   "outputs": [
    {
     "name": "stdout",
     "output_type": "stream",
     "text": [
      "((((()()()))))()\n",
      "8\n"
     ]
    }
   ],
   "source": [
    "b=input()\n",
    "c=0\n",
    "stack=[]\n",
    "for i in b:\n",
    "    if(i=='('):\n",
    "        stack.append('(')\n",
    "    elif(i==')'):\n",
    "        stack.remove('(')\n",
    "        c+=1\n",
    "print(c)"
   ]
  },
  {
   "cell_type": "markdown",
   "metadata": {},
   "source": [
    "Question 4: \n",
    "\n",
    "Read the input as two limits and Print the output as Palindrome count between the two limits\n",
    "\n",
    "Example #1; Input : 1 10 Output : 9\n",
    "\n",
    "Example #2: Input : 1 100 Output : 18\n"
   ]
  },
  {
   "cell_type": "code",
   "execution_count": 17,
   "metadata": {},
   "outputs": [
    {
     "name": "stdout",
     "output_type": "stream",
     "text": [
      "1 100\n",
      "18\n"
     ]
    }
   ],
   "source": [
    "r1,r2=map(int,input().split())\n",
    "c=0\n",
    "for i in range(r1,r2):\n",
    "    if(str(i)==str(i)[::-1]):\n",
    "        c+=1\n",
    "print(c)"
   ]
  },
  {
   "cell_type": "markdown",
   "metadata": {},
   "source": [
    "Question 5:\n",
    "\n",
    " Accept a number as an input and check whether the given number is palindrome or not\n",
    " \n",
    "if it is a palindrome number print the number on the screen\n",
    "\n",
    "if it is not a palindrome number reverse that number and add it to previous number repeat this until will get a palindrome\n",
    "\n",
    "number and print that palindrome number on the screen\n",
    "\n",
    "input: 127\n",
    "\n",
    "output: 848\n"
   ]
  },
  {
   "cell_type": "code",
   "execution_count": 20,
   "metadata": {},
   "outputs": [
    {
     "name": "stdout",
     "output_type": "stream",
     "text": [
      "127\n",
      "848\n"
     ]
    }
   ],
   "source": [
    "n=int(input())\n",
    "if(str(n)==str(n)[::-1]):\n",
    "    print(n)\n",
    "else:\n",
    "    print(int(str(n))+int(str(n)[::-1]))"
   ]
  },
  {
   "cell_type": "markdown",
   "metadata": {},
   "source": [
    "Question 6:\n",
    "\n",
    "input:orange  →   output : puboif\n"
   ]
  },
  {
   "cell_type": "code",
   "execution_count": 32,
   "metadata": {},
   "outputs": [
    {
     "name": "stdout",
     "output_type": "stream",
     "text": [
      "orange\n",
      "puboif\n"
     ]
    }
   ],
   "source": [
    "s=input()\n",
    "s1=\"\"\n",
    "for i in range(0,len(s)):\n",
    "    if(s[i]=='a' or s[i]=='e' or s[i]=='i' or s[i]=='o' or s[i]=='u'):\n",
    "        if(ord(s[i])+1<=122):\n",
    "            s1+=chr(ord(s[i])+1)\n",
    "        else:\n",
    "            s1+=chr(ord(s[i])+1-122)\n",
    "    else:\n",
    "        if s[i] > 'a' and s[i] < 'e':     \n",
    "            if (abs(ord(s[i]) - ord('a')) >= abs(ord(s[i]) - ord('e'))):  \n",
    "                s1 += 'e' \n",
    "            else: \n",
    "                s1+= 'a' \n",
    "               \n",
    "        elif s[i] > 'e' and s[i] < 'i':   \n",
    "            if (abs(ord(s[i]) - ord('e')) >= abs(ord(s[i]) - ord('i'))):  \n",
    "                s1+= 'i' \n",
    "            else: \n",
    "                s1+= 'e' \n",
    "               \n",
    "        elif (s[i] > 'i' and s[i] < 'o'):   \n",
    "            if (abs(ord(s[i]) - ord('i')) >= abs(ord(s[i]) - ord('o'))): \n",
    "                s1+= 'o' \n",
    "            else: \n",
    "                s1+= 'i' \n",
    "               \n",
    "        elif (s[i] > 'o' and s[i] < 'u'):   \n",
    "            if (abs(ord(s[i]) - ord('o')) >= abs(ord(s[i]) - ord('u'))):  \n",
    "                s1+= 'u' \n",
    "            else: \n",
    "                s1+= 'o' \n",
    "                \n",
    "        elif (s[i] > 'u'):  \n",
    "            s1+= 'u' \n",
    "        \n",
    "print(s1)\n",
    "    \n",
    "    "
   ]
  },
  {
   "cell_type": "markdown",
   "metadata": {},
   "source": [
    "Question 7:\n",
    "\n",
    "Accept input as a string and display sum of digits as the output\n",
    "\n",
    "input:Appli123cation456\n",
    "\n",
    "Output: 21\n"
   ]
  },
  {
   "cell_type": "code",
   "execution_count": 34,
   "metadata": {},
   "outputs": [
    {
     "name": "stdout",
     "output_type": "stream",
     "text": [
      "Appli123cation456\n",
      "21\n"
     ]
    }
   ],
   "source": [
    "s=input()\n",
    "num=[]\n",
    "for i in s:\n",
    "    if(i.isdigit()):\n",
    "        num.append(int(i))\n",
    "print(sum(num))\n",
    "    "
   ]
  },
  {
   "cell_type": "raw",
   "metadata": {},
   "source": [
    "Question 8:\n",
    "\n",
    "Write a program to prompt for a score between 0.0 and 1.0. If the score is out of range, print an error. If the score is between 0.0 and 1.0, print a grade using the following table:\n",
    "\n",
    "Score Grade\n",
    "\n",
    " > =0.9 A\n",
    "\n",
    " > = 0.8 B\n",
    "\n",
    "> = 0.7 C\n",
    "\n",
    "> = 0.6 D\n",
    "\n",
    "< 0.6 F\n",
    "\n",
    "If the user enters a value out of range, print a suitable error message and exit. For the test, enter a score of 0.85\n"
   ]
  },
  {
   "cell_type": "code",
   "execution_count": 35,
   "metadata": {},
   "outputs": [
    {
     "name": "stdout",
     "output_type": "stream",
     "text": [
      "enter the score in range between 0.0 and 1.00.85\n",
      "B\n"
     ]
    }
   ],
   "source": [
    "p=float(input(\"enter the score in range between 0.0 and 1.0\"))\n",
    "if(p>1.0):\n",
    "    print(\"error\")\n",
    "elif(p>=0.9):\n",
    "    print(\"A\")\n",
    "elif(p>=0.8):\n",
    "    print(\"B\")\n",
    "elif(p>=0.7):\n",
    "    print(\"C\")\n",
    "elif(p>=0.6):\n",
    "    print(\"D\")\n",
    "elif(p<0.6):\n",
    "    print(\"F\")\n",
    "    "
   ]
  },
  {
   "cell_type": "raw",
   "metadata": {},
   "source": [
    "Question 9:\n",
    "\n",
    "Write a Python program which iterates the integers from 1 to 50. For multiples of three print \"Fizz\" instead of the number and \n",
    "\n",
    "for the multiples of five print \"Buzz\". For numbers which are multiples of both three and five print \"FizzBuzz\".\n",
    "\n",
    "Sample Output :\n",
    "\n",
    "fizzbuzz\n",
    "\n",
    "1\n",
    "\n",
    "2\n",
    "\n",
    "fizz\n",
    "\n",
    "4\n",
    "\n",
    "buzz\n"
   ]
  },
  {
   "cell_type": "code",
   "execution_count": 36,
   "metadata": {},
   "outputs": [
    {
     "name": "stdout",
     "output_type": "stream",
     "text": [
      "1\n",
      "2\n",
      "Fizz\n",
      "4\n",
      "Buzz\n",
      "Fizz\n",
      "7\n",
      "8\n",
      "Fizz\n",
      "Buzz\n",
      "11\n",
      "Fizz\n",
      "13\n",
      "14\n",
      "FizzBuzz\n",
      "16\n",
      "17\n",
      "Fizz\n",
      "19\n",
      "Buzz\n",
      "Fizz\n",
      "22\n",
      "23\n",
      "Fizz\n",
      "Buzz\n",
      "26\n",
      "Fizz\n",
      "28\n",
      "29\n",
      "FizzBuzz\n",
      "31\n",
      "32\n",
      "Fizz\n",
      "34\n",
      "Buzz\n",
      "Fizz\n",
      "37\n",
      "38\n",
      "Fizz\n",
      "Buzz\n",
      "41\n",
      "Fizz\n",
      "43\n",
      "44\n",
      "FizzBuzz\n",
      "46\n",
      "47\n",
      "Fizz\n",
      "49\n",
      "Buzz\n"
     ]
    }
   ],
   "source": [
    "for i in range(1,51):\n",
    "    if(i%3==0 and i%5==0):\n",
    "        print(\"FizzBuzz\")\n",
    "    elif(i%3==0):\n",
    "        print(\"Fizz\")\n",
    "    elif(i%5==0):\n",
    "        print(\"Buzz\")\n",
    "    else:\n",
    "        print(i)"
   ]
  },
  {
   "cell_type": "raw",
   "metadata": {},
   "source": [
    "Question 10:\n",
    "Write a Python program to find the median of three values.\n",
    "Expected Output:\n",
    "Input first number: 26                                            \n",
    "Input second number: 15                                                \n",
    "Input third number: 29                                                  \n",
    "The median is 26\n"
   ]
  },
  {
   "cell_type": "code",
   "execution_count": 37,
   "metadata": {},
   "outputs": [
    {
     "name": "stdout",
     "output_type": "stream",
     "text": [
      "26\n",
      "15\n",
      "29\n",
      "26\n"
     ]
    }
   ],
   "source": [
    "a=int(input())\n",
    "b=int(input())\n",
    "c=int(input())\n",
    "m=0\n",
    "if a > b:\n",
    "    if a < c:\n",
    "        m = a\n",
    "    elif b > c:\n",
    "        m = b\n",
    "    else:\n",
    "        m = c\n",
    "else:\n",
    "    if a > c:\n",
    "        m = a\n",
    "    elif b < c:\n",
    "        m = b\n",
    "    else:\n",
    "        m = c\n",
    "print(m)\n"
   ]
  },
  {
   "cell_type": "code",
   "execution_count": null,
   "metadata": {},
   "outputs": [],
   "source": []
  }
 ],
 "metadata": {
  "kernelspec": {
   "display_name": "Python 3",
   "language": "python",
   "name": "python3"
  },
  "language_info": {
   "codemirror_mode": {
    "name": "ipython",
    "version": 3
   },
   "file_extension": ".py",
   "mimetype": "text/x-python",
   "name": "python",
   "nbconvert_exporter": "python",
   "pygments_lexer": "ipython3",
   "version": "3.7.6"
  }
 },
 "nbformat": 4,
 "nbformat_minor": 4
}
