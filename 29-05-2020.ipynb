{
 "cells": [
  {
   "cell_type": "code",
   "execution_count": 1,
   "metadata": {},
   "outputs": [
    {
     "name": "stdout",
     "output_type": "stream",
     "text": [
      "1\n",
      "2\n",
      "3\n",
      "4\n"
     ]
    }
   ],
   "source": [
    "#Loop control statements: break,continue\n",
    "for i in range(1,11):\n",
    "    if i%5==0:\n",
    "        break\n",
    "    else:\n",
    "        print(i)"
   ]
  },
  {
   "cell_type": "code",
   "execution_count": 2,
   "metadata": {},
   "outputs": [
    {
     "name": "stdout",
     "output_type": "stream",
     "text": [
      "1\n",
      "2\n",
      "3\n",
      "4\n",
      "6\n",
      "7\n",
      "8\n",
      "9\n"
     ]
    }
   ],
   "source": [
    "for i in range(1,11):\n",
    "    if i%5==0:\n",
    "        continue\n",
    "    else:\n",
    "        print(i)"
   ]
  },
  {
   "cell_type": "code",
   "execution_count": 5,
   "metadata": {},
   "outputs": [
    {
     "name": "stdout",
     "output_type": "stream",
     "text": [
      "enter the user namesai\n",
      "enter the user namepython\n",
      "enter the passworddhjdj\n",
      "enter the user namepython\n",
      "enter the passwordabc123\n",
      "Login Success!\n"
     ]
    }
   ],
   "source": [
    "'''\n",
    "write a program to validate username and password given by the user.If the user gives wrong credentials it should \n",
    "ask for username and password again again until the user gives correct details.\n",
    "\n",
    "user name= python\n",
    "password =abc123\n",
    "'''\n",
    "while(True):\n",
    "    uname=input(\"enter the user name\")\n",
    "    if(uname==\"python\"):\n",
    "        password=input(\"enter the password\")\n",
    "        if(password==\"abc123\"):\n",
    "            print(\"Login Success!\")\n",
    "            break\n",
    "        else:\n",
    "            continue\n",
    "    else:\n",
    "        continue"
   ]
  },
  {
   "cell_type": "code",
   "execution_count": 6,
   "metadata": {},
   "outputs": [],
   "source": [
    "#pass --> for creating empty blocks\n",
    "if 12<34:\n",
    "    pass\n",
    "else:\n",
    "    print(\"else\")"
   ]
  },
  {
   "cell_type": "markdown",
   "metadata": {},
   "source": [
    "### Function:\n",
    "block of statements\n",
    "1. predefined(which are already)\n",
    "    - len(),print(),input(),min(),max()\n",
    "2. user-defined(custom function)"
   ]
  },
  {
   "cell_type": "markdown",
   "metadata": {},
   "source": [
    "'''\n",
    "def function_name(parameter list):\n",
    "    statements\n",
    "    return\n",
    "'''\n"
   ]
  },
  {
   "cell_type": "code",
   "execution_count": 8,
   "metadata": {},
   "outputs": [
    {
     "name": "stdout",
     "output_type": "stream",
     "text": [
      "Hello sai d vetukuri\n"
     ]
    }
   ],
   "source": [
    "def name(username):#Function definition\n",
    "    print(\"Hello\",username)\n",
    "    \n",
    "name(\"sai d vetukuri\")#Function calling"
   ]
  },
  {
   "cell_type": "code",
   "execution_count": 11,
   "metadata": {},
   "outputs": [
    {
     "name": "stdout",
     "output_type": "stream",
     "text": [
      "30\n",
      "300\n",
      "330\n"
     ]
    }
   ],
   "source": [
    "def addition(a,b):\n",
    "    return a+b\n",
    "\n",
    "print(addition(10,20))\n",
    "print(addition(100,200))\n",
    "print(addition(110,220))"
   ]
  },
  {
   "cell_type": "code",
   "execution_count": 14,
   "metadata": {},
   "outputs": [
    {
     "name": "stdout",
     "output_type": "stream",
     "text": [
      "(30, -10, 200, 0.5)\n",
      "(300, -100, 20000, 0.5)\n",
      "(330, -110, 24200, 0.5)\n"
     ]
    }
   ],
   "source": [
    "def arithmetic(a,b):\n",
    "    return a+b,a-b,a*b,a/b\n",
    "\n",
    "print(arithmetic(10,20))\n",
    "print(arithmetic(100,200))\n",
    "print(arithmetic(110,220))"
   ]
  },
  {
   "cell_type": "code",
   "execution_count": 15,
   "metadata": {},
   "outputs": [
    {
     "name": "stdout",
     "output_type": "stream",
     "text": [
      "30\n",
      "-10\n",
      "200\n",
      "0.5\n"
     ]
    }
   ],
   "source": [
    "def arithmetic(a,b):\n",
    "    return a+b,a-b,a*b,a/b\n",
    "add,sub,mul,div =arithmetic(10,20)\n",
    "print(add)\n",
    "print(sub)\n",
    "print(mul)\n",
    "print(div)"
   ]
  },
  {
   "cell_type": "markdown",
   "metadata": {},
   "source": [
    "# Different types of Arguments: \n",
    "1. Required positional argument\n",
    "2. Default argument\n",
    "3. keyword argument\n",
    "4. variable length arguments"
   ]
  },
  {
   "cell_type": "code",
   "execution_count": 16,
   "metadata": {},
   "outputs": [
    {
     "data": {
      "text/plain": [
       "30"
      ]
     },
     "execution_count": 16,
     "metadata": {},
     "output_type": "execute_result"
    }
   ],
   "source": [
    "def add(a,b):\n",
    "    return a+b\n",
    "add(10,20)\n",
    "#add(10,20,30)"
   ]
  },
  {
   "cell_type": "code",
   "execution_count": 19,
   "metadata": {},
   "outputs": [
    {
     "name": "stdout",
     "output_type": "stream",
     "text": [
      "200\n",
      "400\n"
     ]
    }
   ],
   "source": [
    "#default argument\n",
    "#Default arg should be at the end of arg list\n",
    "def add(a,b=100):\n",
    "    return a+b\n",
    "print(add(100))\n",
    "print(add(200,200))"
   ]
  },
  {
   "cell_type": "code",
   "execution_count": 22,
   "metadata": {},
   "outputs": [
    {
     "name": "stdout",
     "output_type": "stream",
     "text": [
      "a value: 20\n",
      "b value: 10\n"
     ]
    },
    {
     "data": {
      "text/plain": [
       "30"
      ]
     },
     "execution_count": 22,
     "metadata": {},
     "output_type": "execute_result"
    }
   ],
   "source": [
    "#keyword arguments:\n",
    "def add(a,b):\n",
    "    print(\"a value:\",a)\n",
    "    print(\"b value:\",b)\n",
    "    return(a+b)\n",
    "add(b=10,a=20)"
   ]
  },
  {
   "cell_type": "code",
   "execution_count": null,
   "metadata": {},
   "outputs": [],
   "source": [
    "a=int(input(\"enter a value\"))\n",
    "b=int(input(\"enter a value\"))\n",
    "add(a,b)"
   ]
  },
  {
   "cell_type": "code",
   "execution_count": 24,
   "metadata": {},
   "outputs": [
    {
     "name": "stdout",
     "output_type": "stream",
     "text": [
      "30\n",
      "60\n",
      "100\n"
     ]
    }
   ],
   "source": [
    "#variable length arguments\n",
    "def add(a,*b):\n",
    "    return a+sum(b)\n",
    "print(add(10,20))\n",
    "print(add(10,20,30))\n",
    "print(add(10,20,30,40))"
   ]
  },
  {
   "cell_type": "code",
   "execution_count": 26,
   "metadata": {},
   "outputs": [
    {
     "name": "stdout",
     "output_type": "stream",
     "text": [
      "30\n",
      "60\n",
      "100\n"
     ]
    }
   ],
   "source": [
    "def add(*a):\n",
    "    return sum(a)\n",
    "print(add(10,20))\n",
    "print(add(10,20,30))\n",
    "print(add(10,20,30,40))"
   ]
  },
  {
   "cell_type": "code",
   "execution_count": 27,
   "metadata": {},
   "outputs": [
    {
     "name": "stdout",
     "output_type": "stream",
     "text": [
      "200\n",
      "6000\n",
      "240000\n"
     ]
    }
   ],
   "source": [
    "def add(*a):\n",
    "    m=1\n",
    "    for i in a:\n",
    "        m=m*i\n",
    "    return m\n",
    "print(add(10,20))\n",
    "print(add(10,20,30))\n",
    "print(add(10,20,30,40))"
   ]
  },
  {
   "cell_type": "code",
   "execution_count": 28,
   "metadata": {},
   "outputs": [
    {
     "name": "stdout",
     "output_type": "stream",
     "text": [
      "100\n",
      "1000\n"
     ]
    }
   ],
   "source": [
    "#Nested Functions : square,cube\n",
    "def square(a):\n",
    "    return a*a\n",
    "def cube(x):\n",
    "    return square(x)*x\n",
    "    \n",
    "print(square(10))\n",
    "print(cube(10))\n",
    "\n",
    "\n",
    "    \n",
    "    "
   ]
  },
  {
   "cell_type": "markdown",
   "metadata": {},
   "source": [
    "# recursive function\n",
    "1. factorial \n",
    "2. fibonacci serires"
   ]
  },
  {
   "cell_type": "code",
   "execution_count": 30,
   "metadata": {},
   "outputs": [
    {
     "name": "stdout",
     "output_type": "stream",
     "text": [
      "120\n"
     ]
    }
   ],
   "source": [
    "def factorial(n):\n",
    "    if n==0 or n==1:\n",
    "        return 1\n",
    "    else:\n",
    "        return n*factorial(n-1)\n",
    "print(factorial(5))"
   ]
  },
  {
   "cell_type": "code",
   "execution_count": null,
   "metadata": {},
   "outputs": [],
   "source": [
    "def fibonacci(n):\n",
    "    "
   ]
  },
  {
   "cell_type": "markdown",
   "metadata": {},
   "source": [
    "### Data Structures:\n",
    "1.List:\n",
    "    - [] elements seperated by ,\n",
    "    - indexed\n",
    "    - ordered\n",
    "    - Duplicate values\n",
    "    - Mutable\n",
    "    - Any type of values"
   ]
  },
  {
   "cell_type": "code",
   "execution_count": 31,
   "metadata": {},
   "outputs": [
    {
     "name": "stdout",
     "output_type": "stream",
     "text": [
      "<class 'list'>\n"
     ]
    }
   ],
   "source": [
    "list1=[12,23.45,True,\"abc\",12]\n",
    "print(type(list1))"
   ]
  },
  {
   "cell_type": "code",
   "execution_count": 37,
   "metadata": {},
   "outputs": [
    {
     "name": "stdout",
     "output_type": "stream",
     "text": [
      "[1, 2, 3, 10, 20, 30]\n",
      "[1, 2, 3, 1, 2, 3, 1, 2, 3]\n",
      "2\n",
      "[2, 3]\n",
      "True\n",
      "False\n",
      "False\n",
      "True\n"
     ]
    }
   ],
   "source": [
    "#operators supported by list: +,*,[],[:],in,not in\n",
    "list1=[1,2,3]\n",
    "list2=[10,20,30]\n",
    "print(list1+list2)#concatenation\n",
    "print(list1*3)#repitition\n",
    "print(list1[1])#2\n",
    "print(list1[1:3])#[1,2]\n",
    "print(2 in list1) #True\n",
    "print(200 in list1)#False\n",
    "print(2 not in list1)\n",
    "print(200 not in list1)"
   ]
  },
  {
   "cell_type": "code",
   "execution_count": 39,
   "metadata": {},
   "outputs": [
    {
     "name": "stdout",
     "output_type": "stream",
     "text": [
      "t\n"
     ]
    }
   ],
   "source": [
    "#Built-in functions:len(),min(),max(),list()\n",
    "list1=[1,2,3,\"python\"]\n",
    "print(list1[3][2])"
   ]
  },
  {
   "cell_type": "code",
   "execution_count": 41,
   "metadata": {},
   "outputs": [
    {
     "name": "stdout",
     "output_type": "stream",
     "text": [
      "4\n",
      "1\n",
      "40\n",
      "['p', 'y', 't', 'h', 'o', 'n']\n",
      "[1, 2, 3, 100]\n"
     ]
    }
   ],
   "source": [
    "list1=[1,2,3,40]\n",
    "s1=\"python\"\n",
    "print(len(list1))\n",
    "print(min(list1))\n",
    "print(max(list1))\n",
    "list2=list(s1)\n",
    "print(list2)\n",
    "list1[-1]=100\n",
    "print(list1)"
   ]
  },
  {
   "cell_type": "code",
   "execution_count": null,
   "metadata": {},
   "outputs": [],
   "source": []
  },
  {
   "cell_type": "code",
   "execution_count": null,
   "metadata": {},
   "outputs": [],
   "source": []
  }
 ],
 "metadata": {
  "kernelspec": {
   "display_name": "Python 3",
   "language": "python",
   "name": "python3"
  },
  "language_info": {
   "codemirror_mode": {
    "name": "ipython",
    "version": 3
   },
   "file_extension": ".py",
   "mimetype": "text/x-python",
   "name": "python",
   "nbconvert_exporter": "python",
   "pygments_lexer": "ipython3",
   "version": "3.7.6"
  }
 },
 "nbformat": 4,
 "nbformat_minor": 4
}
